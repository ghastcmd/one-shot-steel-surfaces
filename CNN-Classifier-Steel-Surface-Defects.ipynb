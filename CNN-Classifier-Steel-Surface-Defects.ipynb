{
 "cells": [
  {
   "cell_type": "markdown",
   "source": [
    "## Convolutional Neural Network for Steel Surface defect classification\n",
    "\n",
    "#### If you use this code, please cite our work: [[paper](https://doi.org/10.1016/j.promfg.2020.05.146)][[code](https://github.com/adipandas/one-shot-steel-surfaces)]\n",
    "\n",
    "### Aditya M. Deshpande, Ali A. Minai, Manish Kumar, One-Shot Recognition of Manufacturing Defects in Steel Surfaces, Procedia Manufacturing, Volume 48, 2020, Pages 1064-1071, ISSN 2351-9789, https://doi.org/10.1016/j.promfg.2020.05.146.\n",
    "\n",
    "#### MIT License\n",
    "\n",
    "Copyright (c) 2020 Aditya M. Deshpande\n",
    "\n",
    "Permission is hereby granted, free of charge, to any person obtaining a copy\n",
    "of this software and associated documentation files (the \"Software\"), to deal\n",
    "in the Software without restriction, including without limitation the rights\n",
    "to use, copy, modify, merge, publish, distribute, sublicense, and/or sell\n",
    "copies of the Software, and to permit persons to whom the Software is\n",
    "furnished to do so, subject to the following conditions:\n",
    "\n",
    "The above copyright notice and this permission notice shall be included in all\n",
    "copies or substantial portions of the Software.\n",
    "\n",
    "THE SOFTWARE IS PROVIDED \"AS IS\", WITHOUT WARRANTY OF ANY KIND, EXPRESS OR\n",
    "IMPLIED, INCLUDING BUT NOT LIMITED TO THE WARRANTIES OF MERCHANTABILITY,\n",
    "FITNESS FOR A PARTICULAR PURPOSE AND NONINFRINGEMENT. IN NO EVENT SHALL THE\n",
    "AUTHORS OR COPYRIGHT HOLDERS BE LIABLE FOR ANY CLAIM, DAMAGES OR OTHER\n",
    "LIABILITY, WHETHER IN AN ACTION OF CONTRACT, TORT OR OTHERWISE, ARISING FROM,\n",
    "OUT OF OR IN CONNECTION WITH THE SOFTWARE OR THE USE OR OTHER DEALINGS IN THE\n",
    "SOFTWARE.\n"
   ],
   "metadata": {}
  },
  {
   "cell_type": "code",
   "execution_count": 1,
   "source": [
    "import os\r\n",
    "import numpy as np\r\n",
    "import matplotlib.pyplot as plt\r\n",
    "from PIL import Image, ImageOps\r\n",
    "import random\r\n",
    "import torch\r\n",
    "import torchvision\r\n",
    "import torchvision.transforms as transforms\r\n",
    "import torchvision.datasets as datasets\r\n",
    "import torch.nn as nn\r\n",
    "import torch.optim as optim\r\n",
    "import torch.nn.functional as F\r\n",
    "from torch.autograd import Variable\r\n",
    "from torch.utils.data import DataLoader"
   ],
   "outputs": [],
   "metadata": {}
  },
  {
   "cell_type": "markdown",
   "source": [
    "## Set Configs\n",
    "\n",
    "#### NOTE: You may need to change the path to the data folder."
   ],
   "metadata": {}
  },
  {
   "cell_type": "code",
   "execution_count": 2,
   "source": [
    "TRAIN_DIR = './datasets_all/cnn_data/training/'\r\n",
    "TEST_DIR = './datasets_all/cnn_data/testing/'\r\n",
    "\r\n",
    "WEIGHT_PATH = './weights/steel/cnn/'\r\n",
    "SAVE_IMAGE_PATH = './images/steel/cnn/'\r\n",
    "\r\n",
    "SAVE_TEST_RESULTS_PATH = './images/steel/test_output'\r\n",
    "\r\n",
    "device = torch.device('cuda:0' if (torch.cuda.is_available()) else 'cpu')"
   ],
   "outputs": [],
   "metadata": {}
  },
  {
   "cell_type": "markdown",
   "source": [
    "## Parameters"
   ],
   "metadata": {}
  },
  {
   "cell_type": "code",
   "execution_count": 3,
   "source": [
    "BATCH_SIZE = 128\r\n",
    "N_EPOCHS = 80\r\n",
    "LR = 0.0005\r\n",
    "N_GPU = 1\r\n",
    "SET_L = False\r\n",
    "INPUT_D = 3 if SET_L == False else 1"
   ],
   "outputs": [],
   "metadata": {}
  },
  {
   "cell_type": "markdown",
   "source": [
    "## CNN Architecture"
   ],
   "metadata": {}
  },
  {
   "cell_type": "code",
   "execution_count": 4,
   "source": [
    "class CNNNet(nn.Module):\r\n",
    "    def __init__(self):\r\n",
    "        super(CNNNet, self).__init__()\r\n",
    "        self.conv_layer = nn.Sequential(\r\n",
    "            nn.ZeroPad2d(1),\r\n",
    "            nn.Conv2d(INPUT_D, 4, kernel_size=3),\r\n",
    "            nn.ReLU(),        \r\n",
    "            nn.ZeroPad2d(1),\r\n",
    "            nn.Conv2d(4, 8, kernel_size=3),\r\n",
    "            nn.ReLU(),\r\n",
    "            nn.ZeroPad2d(1),\r\n",
    "            nn.Conv2d(8, 8, kernel_size=3),\r\n",
    "            nn.ReLU(),\r\n",
    "        )\r\n",
    "        \r\n",
    "        self.fc_layer = nn.Sequential(\r\n",
    "            nn.Linear(8*100*100, 500),\r\n",
    "            nn.ReLU(),\r\n",
    "            nn.Linear(500, 500),\r\n",
    "            nn.ReLU(),\r\n",
    "            nn.Linear(500, 6),\r\n",
    "        )\r\n",
    "        \r\n",
    "    def forward(self, x):\r\n",
    "        x = self.conv_layer(x)\r\n",
    "        x = x.view(x.size()[0], -1)\r\n",
    "        x = self.fc_layer(x)\r\n",
    "        return x"
   ],
   "outputs": [],
   "metadata": {}
  },
  {
   "cell_type": "markdown",
   "source": [
    "## Set Helpers"
   ],
   "metadata": {}
  },
  {
   "cell_type": "code",
   "execution_count": 5,
   "source": [
    "def show_img(img, text=None, figsize=(20,20), save_into=None):\r\n",
    "    img = img.numpy()\r\n",
    "    plt.figure(figsize=figsize)\r\n",
    "    plt.axis('off')\r\n",
    "    if text:\r\n",
    "        plt.text(50, 8, text, bbox={'facecolor': 'white', 'alpha': 1 })\r\n",
    "    plt.imshow(np.transpose(img, (1, 2, 0)))\r\n",
    "    \r\n",
    "    if save_into:\r\n",
    "        plt.savefig(save_into)\r\n",
    "        plt.show()\r\n",
    "    else:\r\n",
    "        plt.show()"
   ],
   "outputs": [],
   "metadata": {}
  },
  {
   "cell_type": "code",
   "execution_count": 6,
   "source": [
    "def explain_databatch(batch):\r\n",
    "    \"\"\"\r\n",
    "    batch: tensor batch from dataset\r\n",
    "    \"\"\"\r\n",
    "    print('Each batch of training data is a tuple of {} elements.'.format(len(batch)))\r\n",
    "    \r\n",
    "    print('Shape of each element of a tuple in the batch:')\r\n",
    "    for i in range(len(batch)):\r\n",
    "        print('element#{}: {}'.format(i, batch[i].shape))"
   ],
   "outputs": [],
   "metadata": {}
  },
  {
   "cell_type": "markdown",
   "source": [
    "## Configure Custom Data Loader"
   ],
   "metadata": {}
  },
  {
   "cell_type": "code",
   "execution_count": 7,
   "source": [
    "class RandRotateTransform:\r\n",
    "    \"\"\"Rotate by one of the given angles.\"\"\"\r\n",
    "\r\n",
    "    def __init__(self, angles):\r\n",
    "        self.angles = angles\r\n",
    "\r\n",
    "    def __call__(self, x):\r\n",
    "        angle = random.choice(self.angles)\r\n",
    "        return transforms.functional.rotate(x, angle)\r\n"
   ],
   "outputs": [],
   "metadata": {}
  },
  {
   "cell_type": "code",
   "execution_count": 8,
   "source": [
    "transform = transforms.Compose([\r\n",
    "                            transforms.Resize((100,100)),\r\n",
    "                            RandRotateTransform(angles=[0, 90, 180, 270]),\r\n",
    "                            transforms.RandomHorizontalFlip(),\r\n",
    "                            transforms.ToTensor(),\r\n",
    "                            transforms.Normalize((0.5,), (0.5,))\r\n",
    "])"
   ],
   "outputs": [],
   "metadata": {}
  },
  {
   "cell_type": "code",
   "execution_count": 9,
   "source": [
    "trainset = torchvision.datasets.ImageFolder(root=TRAIN_DIR, transform=transform)\r\n",
    "train_loader = torch.utils.data.DataLoader(trainset, batch_size=BATCH_SIZE,\r\n",
    "                                          shuffle=True, num_workers=0)"
   ],
   "outputs": [],
   "metadata": {}
  },
  {
   "cell_type": "markdown",
   "source": [
    "## Prepare Training Data"
   ],
   "metadata": {}
  },
  {
   "cell_type": "code",
   "execution_count": 10,
   "source": [
    "example_batch = next(iter(train_loader))\r\n",
    "\r\n",
    "explain_databatch(example_batch)"
   ],
   "outputs": [
    {
     "output_type": "stream",
     "name": "stdout",
     "text": [
      "Each batch of training data is a tuple of 2 elements.\n",
      "Shape of each element of a tuple in the batch:\n",
      "element#0: torch.Size([128, 3, 100, 100])\n",
      "element#1: torch.Size([128])\n"
     ]
    }
   ],
   "metadata": {}
  },
  {
   "cell_type": "code",
   "execution_count": 11,
   "source": [
    "model = CNNNet().to(device)\r\n",
    "criterion = nn.CrossEntropyLoss()\r\n",
    "optimizer = optim.Adam(model.parameters(), lr=LR)"
   ],
   "outputs": [],
   "metadata": {}
  },
  {
   "cell_type": "code",
   "execution_count": 13,
   "source": [
    "for epoch in range(N_EPOCHS):\r\n",
    "    running_loss = 0.0\r\n",
    "    for i, data in enumerate(train_loader, 0):\r\n",
    "        inputs, labels = data\r\n",
    "        inputs, labels = inputs.to(device), labels.to(device)\r\n",
    "\r\n",
    "        optimizer.zero_grad()\r\n",
    "\r\n",
    "        # forward + backward + optimize\r\n",
    "        outputs = model(inputs)\r\n",
    "        loss = criterion(outputs, labels)\r\n",
    "        loss.backward()\r\n",
    "        optimizer.step()\r\n",
    "\r\n",
    "        running_loss += loss.item()\r\n",
    "        \r\n",
    "        if i % 10 == 0:\r\n",
    "            running_loss = 0.0\r\n",
    "    \r\n",
    "    print('[%d] \\t loss: %.6f' % (epoch + 1, running_loss / 2000))\r\n",
    "\r\n",
    "print('\\n\\nFinished Training!!')"
   ],
   "outputs": [
    {
     "output_type": "stream",
     "name": "stdout",
     "text": [
      "[1] \t loss: 0.000817\n",
      "[2] \t loss: 0.000693\n",
      "[3] \t loss: 0.000634\n",
      "[4] \t loss: 0.000587\n",
      "[5] \t loss: 0.000457\n",
      "[6] \t loss: 0.000482\n",
      "[7] \t loss: 0.000362\n",
      "[8] \t loss: 0.000482\n",
      "[9] \t loss: 0.000351\n",
      "[10] \t loss: 0.000393\n",
      "[11] \t loss: 0.000456\n",
      "[12] \t loss: 0.000434\n",
      "[13] \t loss: 0.000630\n",
      "[14] \t loss: 0.000286\n",
      "[15] \t loss: 0.000331\n",
      "[16] \t loss: 0.000369\n",
      "[17] \t loss: 0.000332\n",
      "[18] \t loss: 0.000325\n",
      "[19] \t loss: 0.000226\n",
      "[20] \t loss: 0.000281\n",
      "[21] \t loss: 0.000189\n",
      "[22] \t loss: 0.000345\n",
      "[23] \t loss: 0.000194\n",
      "[24] \t loss: 0.000244\n",
      "[25] \t loss: 0.000282\n",
      "[26] \t loss: 0.000116\n",
      "[27] \t loss: 0.000309\n",
      "[28] \t loss: 0.000081\n",
      "[29] \t loss: 0.000178\n",
      "[30] \t loss: 0.000177\n",
      "[31] \t loss: 0.000251\n",
      "[32] \t loss: 0.000247\n",
      "[33] \t loss: 0.000116\n",
      "[34] \t loss: 0.000136\n",
      "[35] \t loss: 0.000070\n",
      "[36] \t loss: 0.000099\n",
      "[37] \t loss: 0.000102\n",
      "[38] \t loss: 0.000088\n",
      "[39] \t loss: 0.000100\n",
      "[40] \t loss: 0.000096\n",
      "[41] \t loss: 0.000093\n",
      "[42] \t loss: 0.000078\n",
      "[43] \t loss: 0.000098\n",
      "[44] \t loss: 0.000157\n",
      "[45] \t loss: 0.000187\n",
      "[46] \t loss: 0.000159\n",
      "[47] \t loss: 0.000112\n",
      "[48] \t loss: 0.000067\n",
      "[49] \t loss: 0.000030\n",
      "[50] \t loss: 0.000105\n",
      "[51] \t loss: 0.000184\n",
      "[52] \t loss: 0.000121\n",
      "[53] \t loss: 0.000137\n",
      "[54] \t loss: 0.000054\n",
      "[55] \t loss: 0.000067\n",
      "[56] \t loss: 0.000064\n",
      "[57] \t loss: 0.000113\n",
      "[58] \t loss: 0.000139\n",
      "[59] \t loss: 0.000048\n",
      "[60] \t loss: 0.000102\n",
      "[61] \t loss: 0.000069\n",
      "[62] \t loss: 0.000069\n",
      "[63] \t loss: 0.000036\n",
      "[64] \t loss: 0.000021\n",
      "[65] \t loss: 0.000054\n",
      "[66] \t loss: 0.000077\n",
      "[67] \t loss: 0.000172\n",
      "[68] \t loss: 0.000078\n",
      "[69] \t loss: 0.000129\n",
      "[70] \t loss: 0.000059\n",
      "[71] \t loss: 0.000116\n",
      "[72] \t loss: 0.000066\n",
      "[73] \t loss: 0.000055\n",
      "[74] \t loss: 0.000048\n",
      "[75] \t loss: 0.000036\n",
      "[76] \t loss: 0.000039\n",
      "[77] \t loss: 0.000022\n",
      "[78] \t loss: 0.000035\n",
      "[79] \t loss: 0.000017\n",
      "[80] \t loss: 0.000014\n",
      "\n",
      "\n",
      "Finished Training!!\n"
     ]
    }
   ],
   "metadata": {
    "scrolled": false
   }
  },
  {
   "cell_type": "markdown",
   "source": [
    "### Test the trained model"
   ],
   "metadata": {}
  },
  {
   "cell_type": "code",
   "execution_count": 14,
   "source": [
    "torch.save(model.state_dict(), './weights/steel/cnn/cnnnet.pth')\r\n",
    "testset = torchvision.datasets.ImageFolder(root=TEST_DIR, transform=transform)\r\n",
    "testloader = torch.utils.data.DataLoader(testset, batch_size=BATCH_SIZE, shuffle=False, num_workers=0)"
   ],
   "outputs": [],
   "metadata": {}
  },
  {
   "cell_type": "code",
   "execution_count": 15,
   "source": [
    "correct = 0\r\n",
    "total = 0\r\n",
    "with torch.no_grad():\r\n",
    "    for data in testloader:\r\n",
    "        images, labels = data\r\n",
    "        images, labels = images.to(device), labels.to(device)\r\n",
    "        outputs = model(images)\r\n",
    "        _, predicted = torch.max(outputs.data, 1)\r\n",
    "        total += labels.size(0)\r\n",
    "        correct += (predicted == labels).sum().item()\r\n",
    "\r\n",
    "print('Accuracy of the network on the test images: %d %%' % (100 * correct / total))"
   ],
   "outputs": [
    {
     "output_type": "stream",
     "name": "stdout",
     "text": [
      "Accuracy of the network on the test images: 87 %\n"
     ]
    }
   ],
   "metadata": {}
  }
 ],
 "metadata": {
  "kernelspec": {
   "name": "python3",
   "display_name": "Python 3.9.1 64-bit"
  },
  "language_info": {
   "codemirror_mode": {
    "name": "ipython",
    "version": 3
   },
   "file_extension": ".py",
   "mimetype": "text/x-python",
   "name": "python",
   "nbconvert_exporter": "python",
   "pygments_lexer": "ipython3",
   "version": "3.9.1"
  },
  "interpreter": {
   "hash": "e2b6c2d7d9ddd64edc1a9f96033484bf1fa809b0d53b1acdc555142cab2cb3aa"
  }
 },
 "nbformat": 4,
 "nbformat_minor": 2
}